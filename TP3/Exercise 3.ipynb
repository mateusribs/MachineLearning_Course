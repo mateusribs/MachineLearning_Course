{
 "cells": [
  {
   "cell_type": "markdown",
   "source": [
    "# TP3 - Exercise 3\n",
    "## Mateus Ribeiro da Silva"
   ],
   "metadata": {}
  },
  {
   "cell_type": "code",
   "execution_count": 46,
   "source": [
    "#Importing some libraries\n",
    "import numpy as np\n",
    "import pandas as pd\n",
    "import seaborn as sns\n",
    "import matplotlib.pyplot as plt\n",
    "from matplotlib.colors import ListedColormap\n",
    "from scipy.stats import norm\n",
    "from sklearn.utils import shuffle\n",
    "from sklearn import neighbors\n",
    "from sklearn.preprocessing import LabelEncoder\n",
    "from sklearn import metrics\n",
    "from sklearn.model_selection import cross_val_score\n",
    "from sklearn.model_selection import GridSearchCV\n",
    "from sklearn.preprocessing import StandardScaler\n"
   ],
   "outputs": [],
   "metadata": {}
  },
  {
   "cell_type": "code",
   "execution_count": 23,
   "source": [
    "#Import dataset\n",
    "attributes_spotify = pd.read_csv(\"https://raw.githubusercontent.com/emmanueliarussi/DataScienceCapstone/master/3_MidtermProjects/ProjectBOM/data/attributes_spotify.csv\")\n",
    "attributes_spotify = attributes_spotify.sample(frac=1).reset_index(drop=True)\n",
    "attributes_spotify.describe()"
   ],
   "outputs": [
    {
     "output_type": "execute_result",
     "data": {
      "text/html": [
       "<div>\n",
       "<style scoped>\n",
       "    .dataframe tbody tr th:only-of-type {\n",
       "        vertical-align: middle;\n",
       "    }\n",
       "\n",
       "    .dataframe tbody tr th {\n",
       "        vertical-align: top;\n",
       "    }\n",
       "\n",
       "    .dataframe thead th {\n",
       "        text-align: right;\n",
       "    }\n",
       "</style>\n",
       "<table border=\"1\" class=\"dataframe\">\n",
       "  <thead>\n",
       "    <tr style=\"text-align: right;\">\n",
       "      <th></th>\n",
       "      <th>Unnamed: 0</th>\n",
       "      <th>acousticness</th>\n",
       "      <th>danceability</th>\n",
       "      <th>duration_ms</th>\n",
       "      <th>energy</th>\n",
       "      <th>instrumentalness</th>\n",
       "      <th>key</th>\n",
       "      <th>liveness</th>\n",
       "      <th>loudness</th>\n",
       "      <th>mode</th>\n",
       "      <th>speechiness</th>\n",
       "      <th>tempo</th>\n",
       "      <th>time_signature</th>\n",
       "      <th>valence</th>\n",
       "      <th>target</th>\n",
       "    </tr>\n",
       "  </thead>\n",
       "  <tbody>\n",
       "    <tr>\n",
       "      <th>count</th>\n",
       "      <td>2017.000000</td>\n",
       "      <td>2017.000000</td>\n",
       "      <td>2017.000000</td>\n",
       "      <td>2.017000e+03</td>\n",
       "      <td>2017.000000</td>\n",
       "      <td>2017.000000</td>\n",
       "      <td>2017.000000</td>\n",
       "      <td>2017.000000</td>\n",
       "      <td>2017.000000</td>\n",
       "      <td>2017.000000</td>\n",
       "      <td>2017.000000</td>\n",
       "      <td>2017.000000</td>\n",
       "      <td>2017.000000</td>\n",
       "      <td>2017.000000</td>\n",
       "      <td>2017.000000</td>\n",
       "    </tr>\n",
       "    <tr>\n",
       "      <th>mean</th>\n",
       "      <td>1008.000000</td>\n",
       "      <td>0.187590</td>\n",
       "      <td>0.618422</td>\n",
       "      <td>2.463062e+05</td>\n",
       "      <td>0.681577</td>\n",
       "      <td>0.133286</td>\n",
       "      <td>5.342588</td>\n",
       "      <td>0.190844</td>\n",
       "      <td>-7.085624</td>\n",
       "      <td>0.612295</td>\n",
       "      <td>0.092664</td>\n",
       "      <td>121.603272</td>\n",
       "      <td>3.968270</td>\n",
       "      <td>0.496815</td>\n",
       "      <td>0.505702</td>\n",
       "    </tr>\n",
       "    <tr>\n",
       "      <th>std</th>\n",
       "      <td>582.402066</td>\n",
       "      <td>0.259989</td>\n",
       "      <td>0.161029</td>\n",
       "      <td>8.198181e+04</td>\n",
       "      <td>0.210273</td>\n",
       "      <td>0.273162</td>\n",
       "      <td>3.648240</td>\n",
       "      <td>0.155453</td>\n",
       "      <td>3.761684</td>\n",
       "      <td>0.487347</td>\n",
       "      <td>0.089931</td>\n",
       "      <td>26.685604</td>\n",
       "      <td>0.255853</td>\n",
       "      <td>0.247195</td>\n",
       "      <td>0.500091</td>\n",
       "    </tr>\n",
       "    <tr>\n",
       "      <th>min</th>\n",
       "      <td>0.000000</td>\n",
       "      <td>0.000003</td>\n",
       "      <td>0.122000</td>\n",
       "      <td>1.604200e+04</td>\n",
       "      <td>0.014800</td>\n",
       "      <td>0.000000</td>\n",
       "      <td>0.000000</td>\n",
       "      <td>0.018800</td>\n",
       "      <td>-33.097000</td>\n",
       "      <td>0.000000</td>\n",
       "      <td>0.023100</td>\n",
       "      <td>47.859000</td>\n",
       "      <td>1.000000</td>\n",
       "      <td>0.034800</td>\n",
       "      <td>0.000000</td>\n",
       "    </tr>\n",
       "    <tr>\n",
       "      <th>25%</th>\n",
       "      <td>504.000000</td>\n",
       "      <td>0.009630</td>\n",
       "      <td>0.514000</td>\n",
       "      <td>2.000150e+05</td>\n",
       "      <td>0.563000</td>\n",
       "      <td>0.000000</td>\n",
       "      <td>2.000000</td>\n",
       "      <td>0.092300</td>\n",
       "      <td>-8.394000</td>\n",
       "      <td>0.000000</td>\n",
       "      <td>0.037500</td>\n",
       "      <td>100.189000</td>\n",
       "      <td>4.000000</td>\n",
       "      <td>0.295000</td>\n",
       "      <td>0.000000</td>\n",
       "    </tr>\n",
       "    <tr>\n",
       "      <th>50%</th>\n",
       "      <td>1008.000000</td>\n",
       "      <td>0.063300</td>\n",
       "      <td>0.631000</td>\n",
       "      <td>2.292610e+05</td>\n",
       "      <td>0.715000</td>\n",
       "      <td>0.000076</td>\n",
       "      <td>6.000000</td>\n",
       "      <td>0.127000</td>\n",
       "      <td>-6.248000</td>\n",
       "      <td>1.000000</td>\n",
       "      <td>0.054900</td>\n",
       "      <td>121.427000</td>\n",
       "      <td>4.000000</td>\n",
       "      <td>0.492000</td>\n",
       "      <td>1.000000</td>\n",
       "    </tr>\n",
       "    <tr>\n",
       "      <th>75%</th>\n",
       "      <td>1512.000000</td>\n",
       "      <td>0.265000</td>\n",
       "      <td>0.738000</td>\n",
       "      <td>2.703330e+05</td>\n",
       "      <td>0.846000</td>\n",
       "      <td>0.054000</td>\n",
       "      <td>9.000000</td>\n",
       "      <td>0.247000</td>\n",
       "      <td>-4.746000</td>\n",
       "      <td>1.000000</td>\n",
       "      <td>0.108000</td>\n",
       "      <td>137.849000</td>\n",
       "      <td>4.000000</td>\n",
       "      <td>0.691000</td>\n",
       "      <td>1.000000</td>\n",
       "    </tr>\n",
       "    <tr>\n",
       "      <th>max</th>\n",
       "      <td>2016.000000</td>\n",
       "      <td>0.995000</td>\n",
       "      <td>0.984000</td>\n",
       "      <td>1.004627e+06</td>\n",
       "      <td>0.998000</td>\n",
       "      <td>0.976000</td>\n",
       "      <td>11.000000</td>\n",
       "      <td>0.969000</td>\n",
       "      <td>-0.307000</td>\n",
       "      <td>1.000000</td>\n",
       "      <td>0.816000</td>\n",
       "      <td>219.331000</td>\n",
       "      <td>5.000000</td>\n",
       "      <td>0.992000</td>\n",
       "      <td>1.000000</td>\n",
       "    </tr>\n",
       "  </tbody>\n",
       "</table>\n",
       "</div>"
      ],
      "text/plain": [
       "        Unnamed: 0  acousticness  danceability   duration_ms       energy  \\\n",
       "count  2017.000000   2017.000000   2017.000000  2.017000e+03  2017.000000   \n",
       "mean   1008.000000      0.187590      0.618422  2.463062e+05     0.681577   \n",
       "std     582.402066      0.259989      0.161029  8.198181e+04     0.210273   \n",
       "min       0.000000      0.000003      0.122000  1.604200e+04     0.014800   \n",
       "25%     504.000000      0.009630      0.514000  2.000150e+05     0.563000   \n",
       "50%    1008.000000      0.063300      0.631000  2.292610e+05     0.715000   \n",
       "75%    1512.000000      0.265000      0.738000  2.703330e+05     0.846000   \n",
       "max    2016.000000      0.995000      0.984000  1.004627e+06     0.998000   \n",
       "\n",
       "       instrumentalness          key     liveness     loudness         mode  \\\n",
       "count       2017.000000  2017.000000  2017.000000  2017.000000  2017.000000   \n",
       "mean           0.133286     5.342588     0.190844    -7.085624     0.612295   \n",
       "std            0.273162     3.648240     0.155453     3.761684     0.487347   \n",
       "min            0.000000     0.000000     0.018800   -33.097000     0.000000   \n",
       "25%            0.000000     2.000000     0.092300    -8.394000     0.000000   \n",
       "50%            0.000076     6.000000     0.127000    -6.248000     1.000000   \n",
       "75%            0.054000     9.000000     0.247000    -4.746000     1.000000   \n",
       "max            0.976000    11.000000     0.969000    -0.307000     1.000000   \n",
       "\n",
       "       speechiness        tempo  time_signature      valence       target  \n",
       "count  2017.000000  2017.000000     2017.000000  2017.000000  2017.000000  \n",
       "mean      0.092664   121.603272        3.968270     0.496815     0.505702  \n",
       "std       0.089931    26.685604        0.255853     0.247195     0.500091  \n",
       "min       0.023100    47.859000        1.000000     0.034800     0.000000  \n",
       "25%       0.037500   100.189000        4.000000     0.295000     0.000000  \n",
       "50%       0.054900   121.427000        4.000000     0.492000     1.000000  \n",
       "75%       0.108000   137.849000        4.000000     0.691000     1.000000  \n",
       "max       0.816000   219.331000        5.000000     0.992000     1.000000  "
      ]
     },
     "metadata": {},
     "execution_count": 23
    }
   ],
   "metadata": {}
  },
  {
   "cell_type": "code",
   "execution_count": 24,
   "source": [
    "pd.set_option('display.max_columns', None)\n",
    "attributes_spotify.head()"
   ],
   "outputs": [
    {
     "output_type": "execute_result",
     "data": {
      "text/html": [
       "<div>\n",
       "<style scoped>\n",
       "    .dataframe tbody tr th:only-of-type {\n",
       "        vertical-align: middle;\n",
       "    }\n",
       "\n",
       "    .dataframe tbody tr th {\n",
       "        vertical-align: top;\n",
       "    }\n",
       "\n",
       "    .dataframe thead th {\n",
       "        text-align: right;\n",
       "    }\n",
       "</style>\n",
       "<table border=\"1\" class=\"dataframe\">\n",
       "  <thead>\n",
       "    <tr style=\"text-align: right;\">\n",
       "      <th></th>\n",
       "      <th>Unnamed: 0</th>\n",
       "      <th>acousticness</th>\n",
       "      <th>danceability</th>\n",
       "      <th>duration_ms</th>\n",
       "      <th>energy</th>\n",
       "      <th>instrumentalness</th>\n",
       "      <th>key</th>\n",
       "      <th>liveness</th>\n",
       "      <th>loudness</th>\n",
       "      <th>mode</th>\n",
       "      <th>speechiness</th>\n",
       "      <th>tempo</th>\n",
       "      <th>time_signature</th>\n",
       "      <th>valence</th>\n",
       "      <th>target</th>\n",
       "      <th>song_title</th>\n",
       "      <th>artist</th>\n",
       "    </tr>\n",
       "  </thead>\n",
       "  <tbody>\n",
       "    <tr>\n",
       "      <th>0</th>\n",
       "      <td>1436</td>\n",
       "      <td>0.001010</td>\n",
       "      <td>0.466</td>\n",
       "      <td>16588</td>\n",
       "      <td>0.943</td>\n",
       "      <td>0.000000</td>\n",
       "      <td>6</td>\n",
       "      <td>0.4580</td>\n",
       "      <td>-3.545</td>\n",
       "      <td>0</td>\n",
       "      <td>0.3850</td>\n",
       "      <td>113.457</td>\n",
       "      <td>5.0</td>\n",
       "      <td>0.5980</td>\n",
       "      <td>0</td>\n",
       "      <td>dance alot</td>\n",
       "      <td>Various Artists</td>\n",
       "    </tr>\n",
       "    <tr>\n",
       "      <th>1</th>\n",
       "      <td>745</td>\n",
       "      <td>0.351000</td>\n",
       "      <td>0.561</td>\n",
       "      <td>155040</td>\n",
       "      <td>0.329</td>\n",
       "      <td>0.031100</td>\n",
       "      <td>2</td>\n",
       "      <td>0.1160</td>\n",
       "      <td>-12.680</td>\n",
       "      <td>1</td>\n",
       "      <td>0.0282</td>\n",
       "      <td>105.029</td>\n",
       "      <td>4.0</td>\n",
       "      <td>0.2970</td>\n",
       "      <td>1</td>\n",
       "      <td>White Rabbit</td>\n",
       "      <td>Jefferson Airplane</td>\n",
       "    </tr>\n",
       "    <tr>\n",
       "      <th>2</th>\n",
       "      <td>1333</td>\n",
       "      <td>0.000111</td>\n",
       "      <td>0.450</td>\n",
       "      <td>267000</td>\n",
       "      <td>0.986</td>\n",
       "      <td>0.251000</td>\n",
       "      <td>1</td>\n",
       "      <td>0.0645</td>\n",
       "      <td>-2.384</td>\n",
       "      <td>1</td>\n",
       "      <td>0.1510</td>\n",
       "      <td>159.976</td>\n",
       "      <td>4.0</td>\n",
       "      <td>0.1720</td>\n",
       "      <td>0</td>\n",
       "      <td>Ways Of Transfiguration</td>\n",
       "      <td>Buried Side</td>\n",
       "    </tr>\n",
       "    <tr>\n",
       "      <th>3</th>\n",
       "      <td>723</td>\n",
       "      <td>0.591000</td>\n",
       "      <td>0.624</td>\n",
       "      <td>251627</td>\n",
       "      <td>0.724</td>\n",
       "      <td>0.000008</td>\n",
       "      <td>10</td>\n",
       "      <td>0.1010</td>\n",
       "      <td>-7.113</td>\n",
       "      <td>1</td>\n",
       "      <td>0.1010</td>\n",
       "      <td>78.008</td>\n",
       "      <td>4.0</td>\n",
       "      <td>0.6200</td>\n",
       "      <td>1</td>\n",
       "      <td>Step</td>\n",
       "      <td>Vampire Weekend</td>\n",
       "    </tr>\n",
       "    <tr>\n",
       "      <th>4</th>\n",
       "      <td>487</td>\n",
       "      <td>0.019300</td>\n",
       "      <td>0.352</td>\n",
       "      <td>248133</td>\n",
       "      <td>0.807</td>\n",
       "      <td>0.000006</td>\n",
       "      <td>0</td>\n",
       "      <td>0.0963</td>\n",
       "      <td>-7.781</td>\n",
       "      <td>1</td>\n",
       "      <td>0.1730</td>\n",
       "      <td>90.772</td>\n",
       "      <td>4.0</td>\n",
       "      <td>0.0459</td>\n",
       "      <td>1</td>\n",
       "      <td>Don't Die</td>\n",
       "      <td>Killer Mike</td>\n",
       "    </tr>\n",
       "  </tbody>\n",
       "</table>\n",
       "</div>"
      ],
      "text/plain": [
       "   Unnamed: 0  acousticness  danceability  duration_ms  energy  \\\n",
       "0        1436      0.001010         0.466        16588   0.943   \n",
       "1         745      0.351000         0.561       155040   0.329   \n",
       "2        1333      0.000111         0.450       267000   0.986   \n",
       "3         723      0.591000         0.624       251627   0.724   \n",
       "4         487      0.019300         0.352       248133   0.807   \n",
       "\n",
       "   instrumentalness  key  liveness  loudness  mode  speechiness    tempo  \\\n",
       "0          0.000000    6    0.4580    -3.545     0       0.3850  113.457   \n",
       "1          0.031100    2    0.1160   -12.680     1       0.0282  105.029   \n",
       "2          0.251000    1    0.0645    -2.384     1       0.1510  159.976   \n",
       "3          0.000008   10    0.1010    -7.113     1       0.1010   78.008   \n",
       "4          0.000006    0    0.0963    -7.781     1       0.1730   90.772   \n",
       "\n",
       "   time_signature  valence  target               song_title  \\\n",
       "0             5.0   0.5980       0               dance alot   \n",
       "1             4.0   0.2970       1             White Rabbit   \n",
       "2             4.0   0.1720       0  Ways Of Transfiguration   \n",
       "3             4.0   0.6200       1                     Step   \n",
       "4             4.0   0.0459       1                Don't Die   \n",
       "\n",
       "               artist  \n",
       "0     Various Artists  \n",
       "1  Jefferson Airplane  \n",
       "2         Buried Side  \n",
       "3     Vampire Weekend  \n",
       "4         Killer Mike  "
      ]
     },
     "metadata": {},
     "execution_count": 24
    }
   ],
   "metadata": {}
  },
  {
   "cell_type": "code",
   "execution_count": 93,
   "source": [
    "attributes_spotify.corr()['target']"
   ],
   "outputs": [
    {
     "output_type": "execute_result",
     "data": {
      "text/plain": [
       "Unnamed: 0         -0.865969\n",
       "acousticness       -0.129627\n",
       "danceability        0.176706\n",
       "duration_ms         0.146749\n",
       "energy              0.039688\n",
       "instrumentalness    0.152594\n",
       "key                 0.033594\n",
       "liveness            0.026364\n",
       "loudness           -0.072000\n",
       "mode               -0.072336\n",
       "speechiness         0.154006\n",
       "tempo               0.034732\n",
       "time_signature      0.040182\n",
       "valence             0.107930\n",
       "target              1.000000\n",
       "song_title         -0.000058\n",
       "artist             -0.014588\n",
       "Name: target, dtype: float64"
      ]
     },
     "metadata": {},
     "execution_count": 93
    }
   ],
   "metadata": {}
  },
  {
   "cell_type": "markdown",
   "source": [
    "### Taking a look in dataset we can see some variables that don't give us much information about target, for example, the song title, in most of the cases, didn't define if someone will like it. Therefore, variables like 'song_title', 'artist', 'key', 'mode' and 'time_signature' cannot be useful. However, let's consider in first case all the variables and see how is the classifier's behaviour."
   ],
   "metadata": {}
  },
  {
   "cell_type": "code",
   "execution_count": 94,
   "source": [
    "#Transform some attributes ('song title' and 'artist') into dummy variables in order to enable the classifier compute.\n",
    "le = LabelEncoder()\n",
    "attributes_spotify['song_title'] = le.fit_transform(attributes_spotify['song_title'])\n",
    "attributes_spotify['artist'] = le.fit_transform(attributes_spotify['artist'])"
   ],
   "outputs": [],
   "metadata": {}
  },
  {
   "cell_type": "code",
   "execution_count": 99,
   "source": [
    "#Separate varibles from targets\n",
    "variables_columns = ['acousticness', 'danceability', 'duration_ms', 'energy', 'instrumentalness', 'key', 'liveness', 'loudness', 'mode', 'speechiness', 'tempo', 'time_signature', 'valence', 'song_title', 'artist']\n",
    "X, y = attributes_spotify[variables_columns], attributes_spotify['target']"
   ],
   "outputs": [],
   "metadata": {}
  },
  {
   "cell_type": "code",
   "execution_count": 100,
   "source": [
    "#Instance KNN Classifier\n",
    "knn = neighbors.KNeighborsClassifier()\n",
    "\n",
    "#Create a hyperparameters dictionary for GridSeach using CrossValidation\n",
    "params_grid = {'n_neighbors': [k for k in range(1, 100)]}\n",
    "\n",
    "#Instance GridSearchCV to tesl all k's using 10 cross validations split.\n",
    "knn_grid = GridSearchCV(knn, params_grid, cv=10)\n",
    "\n",
    "#Fit model\n",
    "knn_grid.fit(X,y)"
   ],
   "outputs": [
    {
     "output_type": "execute_result",
     "data": {
      "text/plain": [
       "GridSearchCV(cv=10, estimator=KNeighborsClassifier(),\n",
       "             param_grid={'n_neighbors': [1, 2, 3, 4, 5, 6, 7, 8, 9, 10, 11, 12,\n",
       "                                         13, 14, 15, 16, 17, 18, 19, 20, 21, 22,\n",
       "                                         23, 24, 25, 26, 27, 28, 29, 30, ...]})"
      ]
     },
     "metadata": {},
     "execution_count": 100
    }
   ],
   "metadata": {}
  },
  {
   "cell_type": "code",
   "execution_count": 101,
   "source": [
    "#Find the best performance\n",
    "knn_grid.best_params_"
   ],
   "outputs": [
    {
     "output_type": "execute_result",
     "data": {
      "text/plain": [
       "{'n_neighbors': 37}"
      ]
     },
     "metadata": {},
     "execution_count": 101
    }
   ],
   "metadata": {}
  },
  {
   "cell_type": "code",
   "execution_count": 102,
   "source": [
    "#Find the best score performance\n",
    "knn_grid.best_score_"
   ],
   "outputs": [
    {
     "output_type": "execute_result",
     "data": {
      "text/plain": [
       "0.5909979803950545"
      ]
     },
     "metadata": {},
     "execution_count": 102
    }
   ],
   "metadata": {}
  },
  {
   "cell_type": "markdown",
   "source": [
    "### Using all variables, except 'Unnamed' column, we got 59.1% of accuracy, which is a bad result. Discarding some variables previously mentioned..."
   ],
   "metadata": {}
  },
  {
   "cell_type": "code",
   "execution_count": 107,
   "source": [
    "#Separate varibles from targets\n",
    "variables_columns = ['acousticness', 'danceability', 'duration_ms', 'energy', 'instrumentalness', 'liveness', 'loudness','speechiness', 'tempo','valence']\n",
    "X, y = attributes_spotify[variables_columns], attributes_spotify['target']"
   ],
   "outputs": [],
   "metadata": {}
  },
  {
   "cell_type": "code",
   "execution_count": 108,
   "source": [
    "#Instance KNN Classifier\n",
    "knn = neighbors.KNeighborsClassifier()\n",
    "\n",
    "#Create a hyperparameters dictionary for GridSeach using CrossValidation\n",
    "params_grid = {'n_neighbors': [k for k in range(1, 100)]}\n",
    "\n",
    "#Instance GridSearchCV to tesl all k's using 10 cross validations split.\n",
    "knn_grid = GridSearchCV(knn, params_grid, cv=10)\n",
    "\n",
    "#Fit model\n",
    "knn_grid.fit(X,y)"
   ],
   "outputs": [
    {
     "output_type": "execute_result",
     "data": {
      "text/plain": [
       "GridSearchCV(cv=10, estimator=KNeighborsClassifier(),\n",
       "             param_grid={'n_neighbors': [1, 2, 3, 4, 5, 6, 7, 8, 9, 10, 11, 12,\n",
       "                                         13, 14, 15, 16, 17, 18, 19, 20, 21, 22,\n",
       "                                         23, 24, 25, 26, 27, 28, 29, 30, ...]})"
      ]
     },
     "metadata": {},
     "execution_count": 108
    }
   ],
   "metadata": {}
  },
  {
   "cell_type": "code",
   "execution_count": 109,
   "source": [
    "#Find the best performance\n",
    "knn_grid.best_params_"
   ],
   "outputs": [
    {
     "output_type": "execute_result",
     "data": {
      "text/plain": [
       "{'n_neighbors': 39}"
      ]
     },
     "metadata": {},
     "execution_count": 109
    }
   ],
   "metadata": {}
  },
  {
   "cell_type": "code",
   "execution_count": 110,
   "source": [
    "#Find the best score performance\n",
    "knn_grid.best_score_"
   ],
   "outputs": [
    {
     "output_type": "execute_result",
     "data": {
      "text/plain": [
       "0.599923649081326"
      ]
     },
     "metadata": {},
     "execution_count": 110
    }
   ],
   "metadata": {}
  },
  {
   "cell_type": "markdown",
   "source": [
    "### Choosing only the possible relevant variables we got 59.99% of accuracy. Although the result is better than the last one, such perfomance is bad yet. We are measuring the distance beetween variables points, and how we can see in dataset, the attributes have differents scales, therefore, some variables like 'duration_ms' can influence more than others. Thus, it's important that we normalize all those variables we will consider to the classifier."
   ],
   "metadata": {}
  },
  {
   "cell_type": "code",
   "execution_count": 111,
   "source": [
    "#Instance Standar Scaler tool to normalize dataset\n",
    "scaler = StandardScaler()\n",
    "\n",
    "#Separate varibles from targets\n",
    "variables_columns = ['acousticness', 'danceability', 'duration_ms', 'energy', 'instrumentalness', 'liveness', 'loudness','speechiness', 'tempo','valence']\n",
    "X, y = attributes_spotify[variables_columns], attributes_spotify['target']\n",
    "\n",
    "#Fit standard scaler\n",
    "scaler.fit(X)\n",
    "#Normalizing variables\n",
    "X_new = scaler.transform(X)\n",
    "X_norm = pd.DataFrame(X_new, columns=X.columns)\n",
    "X_norm"
   ],
   "outputs": [
    {
     "output_type": "execute_result",
     "data": {
      "text/html": [
       "<div>\n",
       "<style scoped>\n",
       "    .dataframe tbody tr th:only-of-type {\n",
       "        vertical-align: middle;\n",
       "    }\n",
       "\n",
       "    .dataframe tbody tr th {\n",
       "        vertical-align: top;\n",
       "    }\n",
       "\n",
       "    .dataframe thead th {\n",
       "        text-align: right;\n",
       "    }\n",
       "</style>\n",
       "<table border=\"1\" class=\"dataframe\">\n",
       "  <thead>\n",
       "    <tr style=\"text-align: right;\">\n",
       "      <th></th>\n",
       "      <th>acousticness</th>\n",
       "      <th>danceability</th>\n",
       "      <th>duration_ms</th>\n",
       "      <th>energy</th>\n",
       "      <th>instrumentalness</th>\n",
       "      <th>liveness</th>\n",
       "      <th>loudness</th>\n",
       "      <th>speechiness</th>\n",
       "      <th>tempo</th>\n",
       "      <th>valence</th>\n",
       "    </tr>\n",
       "  </thead>\n",
       "  <tbody>\n",
       "    <tr>\n",
       "      <th>0</th>\n",
       "      <td>-0.717823</td>\n",
       "      <td>-0.946784</td>\n",
       "      <td>-2.802758</td>\n",
       "      <td>1.243563</td>\n",
       "      <td>-0.488057</td>\n",
       "      <td>1.718989</td>\n",
       "      <td>0.941467</td>\n",
       "      <td>3.251456</td>\n",
       "      <td>-0.305344</td>\n",
       "      <td>0.409433</td>\n",
       "    </tr>\n",
       "    <tr>\n",
       "      <th>1</th>\n",
       "      <td>0.628682</td>\n",
       "      <td>-0.356682</td>\n",
       "      <td>-1.113525</td>\n",
       "      <td>-1.677175</td>\n",
       "      <td>-0.374177</td>\n",
       "      <td>-0.481576</td>\n",
       "      <td>-1.487569</td>\n",
       "      <td>-0.716993</td>\n",
       "      <td>-0.621248</td>\n",
       "      <td>-0.808528</td>\n",
       "    </tr>\n",
       "    <tr>\n",
       "      <th>2</th>\n",
       "      <td>-0.721282</td>\n",
       "      <td>-1.046170</td>\n",
       "      <td>0.252482</td>\n",
       "      <td>1.448110</td>\n",
       "      <td>0.431039</td>\n",
       "      <td>-0.812948</td>\n",
       "      <td>1.250182</td>\n",
       "      <td>0.648830</td>\n",
       "      <td>1.438313</td>\n",
       "      <td>-1.314327</td>\n",
       "    </tr>\n",
       "    <tr>\n",
       "      <th>3</th>\n",
       "      <td>1.552026</td>\n",
       "      <td>0.034649</td>\n",
       "      <td>0.064918</td>\n",
       "      <td>0.201801</td>\n",
       "      <td>-0.488028</td>\n",
       "      <td>-0.578092</td>\n",
       "      <td>-0.007279</td>\n",
       "      <td>0.092713</td>\n",
       "      <td>-1.634068</td>\n",
       "      <td>0.498454</td>\n",
       "    </tr>\n",
       "    <tr>\n",
       "      <th>4</th>\n",
       "      <td>-0.647457</td>\n",
       "      <td>-1.654907</td>\n",
       "      <td>0.022289</td>\n",
       "      <td>0.596624</td>\n",
       "      <td>-0.488034</td>\n",
       "      <td>-0.608334</td>\n",
       "      <td>-0.184903</td>\n",
       "      <td>0.893521</td>\n",
       "      <td>-1.155639</td>\n",
       "      <td>-1.824576</td>\n",
       "    </tr>\n",
       "    <tr>\n",
       "      <th>...</th>\n",
       "      <td>...</td>\n",
       "      <td>...</td>\n",
       "      <td>...</td>\n",
       "      <td>...</td>\n",
       "      <td>...</td>\n",
       "      <td>...</td>\n",
       "      <td>...</td>\n",
       "      <td>...</td>\n",
       "      <td>...</td>\n",
       "      <td>...</td>\n",
       "    </tr>\n",
       "    <tr>\n",
       "      <th>2012</th>\n",
       "      <td>-0.719008</td>\n",
       "      <td>1.463318</td>\n",
       "      <td>0.035954</td>\n",
       "      <td>0.178017</td>\n",
       "      <td>0.639758</td>\n",
       "      <td>1.525957</td>\n",
       "      <td>-0.598119</td>\n",
       "      <td>-0.302130</td>\n",
       "      <td>0.241603</td>\n",
       "      <td>-0.104458</td>\n",
       "    </tr>\n",
       "    <tr>\n",
       "      <th>2013</th>\n",
       "      <td>0.009272</td>\n",
       "      <td>0.525365</td>\n",
       "      <td>-0.222863</td>\n",
       "      <td>-1.282352</td>\n",
       "      <td>-0.488037</td>\n",
       "      <td>0.194036</td>\n",
       "      <td>-0.728944</td>\n",
       "      <td>-0.710320</td>\n",
       "      <td>1.147560</td>\n",
       "      <td>1.287499</td>\n",
       "    </tr>\n",
       "    <tr>\n",
       "      <th>2014</th>\n",
       "      <td>-0.717169</td>\n",
       "      <td>0.394922</td>\n",
       "      <td>0.594350</td>\n",
       "      <td>1.291132</td>\n",
       "      <td>1.789544</td>\n",
       "      <td>0.419240</td>\n",
       "      <td>0.854251</td>\n",
       "      <td>-0.503444</td>\n",
       "      <td>0.127169</td>\n",
       "      <td>-0.699276</td>\n",
       "    </tr>\n",
       "    <tr>\n",
       "      <th>2015</th>\n",
       "      <td>2.963972</td>\n",
       "      <td>-1.356750</td>\n",
       "      <td>1.443615</td>\n",
       "      <td>-2.557202</td>\n",
       "      <td>2.726948</td>\n",
       "      <td>-0.462273</td>\n",
       "      <td>-2.242737</td>\n",
       "      <td>-0.619117</td>\n",
       "      <td>-0.047763</td>\n",
       "      <td>-1.387161</td>\n",
       "    </tr>\n",
       "    <tr>\n",
       "      <th>2016</th>\n",
       "      <td>-0.721063</td>\n",
       "      <td>-1.319481</td>\n",
       "      <td>-0.798353</td>\n",
       "      <td>1.210264</td>\n",
       "      <td>0.398084</td>\n",
       "      <td>-0.829034</td>\n",
       "      <td>0.670511</td>\n",
       "      <td>0.192814</td>\n",
       "      <td>0.686635</td>\n",
       "      <td>-0.958245</td>\n",
       "    </tr>\n",
       "  </tbody>\n",
       "</table>\n",
       "<p>2017 rows × 10 columns</p>\n",
       "</div>"
      ],
      "text/plain": [
       "      acousticness  danceability  duration_ms    energy  instrumentalness  \\\n",
       "0        -0.717823     -0.946784    -2.802758  1.243563         -0.488057   \n",
       "1         0.628682     -0.356682    -1.113525 -1.677175         -0.374177   \n",
       "2        -0.721282     -1.046170     0.252482  1.448110          0.431039   \n",
       "3         1.552026      0.034649     0.064918  0.201801         -0.488028   \n",
       "4        -0.647457     -1.654907     0.022289  0.596624         -0.488034   \n",
       "...            ...           ...          ...       ...               ...   \n",
       "2012     -0.719008      1.463318     0.035954  0.178017          0.639758   \n",
       "2013      0.009272      0.525365    -0.222863 -1.282352         -0.488037   \n",
       "2014     -0.717169      0.394922     0.594350  1.291132          1.789544   \n",
       "2015      2.963972     -1.356750     1.443615 -2.557202          2.726948   \n",
       "2016     -0.721063     -1.319481    -0.798353  1.210264          0.398084   \n",
       "\n",
       "      liveness  loudness  speechiness     tempo   valence  \n",
       "0     1.718989  0.941467     3.251456 -0.305344  0.409433  \n",
       "1    -0.481576 -1.487569    -0.716993 -0.621248 -0.808528  \n",
       "2    -0.812948  1.250182     0.648830  1.438313 -1.314327  \n",
       "3    -0.578092 -0.007279     0.092713 -1.634068  0.498454  \n",
       "4    -0.608334 -0.184903     0.893521 -1.155639 -1.824576  \n",
       "...        ...       ...          ...       ...       ...  \n",
       "2012  1.525957 -0.598119    -0.302130  0.241603 -0.104458  \n",
       "2013  0.194036 -0.728944    -0.710320  1.147560  1.287499  \n",
       "2014  0.419240  0.854251    -0.503444  0.127169 -0.699276  \n",
       "2015 -0.462273 -2.242737    -0.619117 -0.047763 -1.387161  \n",
       "2016 -0.829034  0.670511     0.192814  0.686635 -0.958245  \n",
       "\n",
       "[2017 rows x 10 columns]"
      ]
     },
     "metadata": {},
     "execution_count": 111
    }
   ],
   "metadata": {}
  },
  {
   "cell_type": "markdown",
   "source": [
    "### Now that we have all normalized variables, let's train KNN classifier again."
   ],
   "metadata": {}
  },
  {
   "cell_type": "code",
   "execution_count": 112,
   "source": [
    "#Instance KNN Classifier\n",
    "knn = neighbors.KNeighborsClassifier()\n",
    "\n",
    "#Create a hyperparameters dictionary for GridSeach using CrossValidation\n",
    "params_grid = {'n_neighbors': [k for k in range(1, 100)]}\n",
    "\n",
    "#Instance GridSearchCV to tesl all k's using 10 cross validations split.\n",
    "knn_grid = GridSearchCV(knn, params_grid, cv=10)\n",
    "\n",
    "#Fit model\n",
    "knn_grid.fit(X_norm,y)"
   ],
   "outputs": [
    {
     "output_type": "execute_result",
     "data": {
      "text/plain": [
       "GridSearchCV(cv=10, estimator=KNeighborsClassifier(),\n",
       "             param_grid={'n_neighbors': [1, 2, 3, 4, 5, 6, 7, 8, 9, 10, 11, 12,\n",
       "                                         13, 14, 15, 16, 17, 18, 19, 20, 21, 22,\n",
       "                                         23, 24, 25, 26, 27, 28, 29, 30, ...]})"
      ]
     },
     "metadata": {},
     "execution_count": 112
    }
   ],
   "metadata": {}
  },
  {
   "cell_type": "code",
   "execution_count": 113,
   "source": [
    "#Find the best performance\n",
    "knn_grid.best_params_"
   ],
   "outputs": [
    {
     "output_type": "execute_result",
     "data": {
      "text/plain": [
       "{'n_neighbors': 9}"
      ]
     },
     "metadata": {},
     "execution_count": 113
    }
   ],
   "metadata": {}
  },
  {
   "cell_type": "code",
   "execution_count": 114,
   "source": [
    "#Find the best score performance\n",
    "knn_grid.best_score_"
   ],
   "outputs": [
    {
     "output_type": "execute_result",
     "data": {
      "text/plain": [
       "0.7288015368701048"
      ]
     },
     "metadata": {},
     "execution_count": 114
    }
   ],
   "metadata": {}
  },
  {
   "cell_type": "markdown",
   "source": [
    "### Using the normalized variables we got 72.8% of accuracy, which is much better than the last results. So, it's very important to analyze if the attribute's scale are similar, because some variables can be way more influent than the others."
   ],
   "metadata": {}
  }
 ],
 "metadata": {
  "orig_nbformat": 4,
  "language_info": {
   "name": "python",
   "version": "3.8.10",
   "mimetype": "text/x-python",
   "codemirror_mode": {
    "name": "ipython",
    "version": 3
   },
   "pygments_lexer": "ipython3",
   "nbconvert_exporter": "python",
   "file_extension": ".py"
  },
  "kernelspec": {
   "name": "python3",
   "display_name": "Python 3.8.10 64-bit"
  },
  "interpreter": {
   "hash": "916dbcbb3f70747c44a77c7bcd40155683ae19c65e1c03b4aa3499c5328201f1"
  }
 },
 "nbformat": 4,
 "nbformat_minor": 2
}