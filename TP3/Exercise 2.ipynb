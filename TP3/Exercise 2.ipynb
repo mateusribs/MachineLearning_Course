{
 "cells": [
  {
   "cell_type": "markdown",
   "metadata": {},
   "source": [
    "# TP3 - Exercise 2\n",
    "## Mateus Ribeiro da Silva"
   ]
  },
  {
   "cell_type": "code",
   "execution_count": 28,
   "metadata": {},
   "outputs": [],
   "source": [
    "#Importing some libraries\n",
    "import numpy as np\n",
    "import pandas as pd\n",
    "import seaborn as sns\n",
    "import matplotlib.pyplot as plt\n",
    "from matplotlib.colors import ListedColormap\n",
    "from scipy.stats import norm\n",
    "from sklearn.utils import shuffle\n",
    "from sklearn import neighbors\n",
    "from sklearn.preprocessing import LabelEncoder\n",
    "from sklearn import metrics\n",
    "from sklearn.model_selection import cross_val_score\n",
    "from sklearn.model_selection import GridSearchCV\n",
    "\n",
    "\n",
    "# Create color maps for 3-class classification problem, as with iris\n",
    "cmap_light = ListedColormap(['#FFAAAA', '#AAFFAA', '#AAAAFF'])\n",
    "cmap_bold = ListedColormap(['#FF0000', '#00FF00', '#0000FF'])"
   ]
  },
  {
   "cell_type": "code",
   "execution_count": 29,
   "metadata": {},
   "outputs": [],
   "source": [
    "def dataset_fusion(A, B):\n",
    "\n",
    "    \"\"\"\n",
    "    This function merge two datasets and sort them based on the value column\n",
    "    \"\"\"\n",
    "\n",
    "    dataset = pd.merge(A, B, how='outer')\n",
    "    dataset = dataset.sample(frac=1).reset_index(drop=True)\n",
    "\n",
    "    return dataset "
   ]
  },
  {
   "cell_type": "code",
   "execution_count": 30,
   "metadata": {},
   "outputs": [],
   "source": [
    "#Creating datasets\n",
    "np.random.seed(25)\n",
    "\n",
    "dataset_A = pd.DataFrame({'Value 1': np.random.normal(loc=1, scale=1, size=(4000,1)).flatten().tolist(),\n",
    "                          'Value 2': np.random.normal(loc=21, scale=0.5, size=(4000,1)).flatten().tolist(),\n",
    "                          'Dataset': ['A' for i in range(4000)]})\n",
    "dataset_B = pd.DataFrame({'Value 1': np.random.normal(loc=2, scale=0.5, size=(4000,1)).flatten().tolist(),\n",
    "                          'Value 2': np.random.normal(loc=19, scale=1, size=(4000,1)).flatten().tolist(),\n",
    "                          'Dataset': ['B' for i in range(4000)]})\n",
    "\n",
    "full_dataset = dataset_fusion(dataset_A, dataset_B)"
   ]
  },
  {
   "cell_type": "code",
   "execution_count": 31,
   "metadata": {},
   "outputs": [],
   "source": [
    "#Transform the targets in variables that can be used in classifier training\n",
    "le = LabelEncoder()\n",
    "full_dataset['Dataset'] = le.fit_transform(full_dataset['Dataset'])\n",
    "\n",
    "#Separate varibles from targets\n",
    "X, y = full_dataset[['Value 1', 'Value 2']], full_dataset['Dataset']"
   ]
  },
  {
   "cell_type": "code",
   "execution_count": 32,
   "metadata": {},
   "outputs": [
    {
     "name": "stdout",
     "output_type": "stream",
     "text": [
      "Average Accuracy: 0.9297500000000001\n"
     ]
    }
   ],
   "source": [
    "#KNN classifier instance with k=10\n",
    "knn = neighbors.KNeighborsClassifier(n_neighbors=10)\n",
    "\n",
    "#Train model using cross validation split dataset over 10 groups and obtain the score from each split.\n",
    "cross_val_scores = cross_val_score(knn, X, y, cv=10)\n",
    "\n",
    "#Compute the average accuracy from 10 cross validations\n",
    "print('Average Accuracy:', np.mean(cross_val_scores))\n"
   ]
  },
  {
   "cell_type": "markdown",
   "metadata": {},
   "source": [
    "### Using cross validation which split out dataset over 10 groups, we got approximately 92.98% of accuracy. Such result is pretty good, however, we can try another values of k and find the best one. Let's use the GridSerach tool."
   ]
  },
  {
   "cell_type": "code",
   "execution_count": 33,
   "metadata": {},
   "outputs": [
    {
     "data": {
      "text/plain": [
       "GridSearchCV(cv=10, estimator=KNeighborsClassifier(),\n",
       "             param_grid={'n_neighbors': [1, 2, 3, 4, 5, 6, 7, 8, 9, 10, 11, 12,\n",
       "                                         13, 14, 15, 16, 17, 18, 19, 20, 21, 22,\n",
       "                                         23, 24, 25, 26, 27, 28, 29, 30, ...]})"
      ]
     },
     "execution_count": 33,
     "metadata": {},
     "output_type": "execute_result"
    }
   ],
   "source": [
    "#Instance a new knn model\n",
    "knn_new = neighbors.KNeighborsClassifier()\n",
    "\n",
    "#Create grid dictionary containing all hyperparameters we would like to find. For KNN, we only will consider 'k' nearest neighbors.\n",
    "param_grid = {'n_neighbors': [k for k in range(1, 100)]}\n",
    "\n",
    "#Instance GridSearch to test all k using 10 cross validation\n",
    "knn_grid = GridSearchCV(knn_new, param_grid, cv=10)\n",
    "\n",
    "#Fit model\n",
    "knn_grid.fit(X, y)"
   ]
  },
  {
   "cell_type": "code",
   "execution_count": 34,
   "metadata": {},
   "outputs": [
    {
     "data": {
      "text/plain": [
       "{'n_neighbors': 69}"
      ]
     },
     "execution_count": 34,
     "metadata": {},
     "output_type": "execute_result"
    }
   ],
   "source": [
    "#Find the best performance\n",
    "knn_grid.best_params_"
   ]
  },
  {
   "cell_type": "markdown",
   "metadata": {},
   "source": [
    "### The best k we could consider, according to purposed GridSearch, would be 69 nearest neighbors."
   ]
  },
  {
   "cell_type": "code",
   "execution_count": 35,
   "metadata": {},
   "outputs": [
    {
     "data": {
      "text/plain": [
       "0.9347500000000002"
      ]
     },
     "execution_count": 35,
     "metadata": {},
     "output_type": "execute_result"
    }
   ],
   "source": [
    "#Find the best score performance\n",
    "knn_grid.best_score_"
   ]
  },
  {
   "cell_type": "markdown",
   "metadata": {},
   "source": [
    "### Considering k=69 and using 10 cross validation we reach out 93.48% of accuracy. So, GridSearchCV is a great tool for tuning classifier model, because it's very pratical, in comparison with all fullfilled effort in exercise 1."
   ]
  }
 ],
 "metadata": {
  "interpreter": {
   "hash": "31f2aee4e71d21fbe5cf8b01ff0e069b9275f58929596ceb00d14d90e3e16cd6"
  },
  "kernelspec": {
   "display_name": "Python 3.8.10 64-bit",
   "name": "python3"
  },
  "language_info": {
   "codemirror_mode": {
    "name": "ipython",
    "version": 3
   },
   "file_extension": ".py",
   "mimetype": "text/x-python",
   "name": "python",
   "nbconvert_exporter": "python",
   "pygments_lexer": "ipython3",
   "version": "3.8.10"
  },
  "orig_nbformat": 4
 },
 "nbformat": 4,
 "nbformat_minor": 2
}
